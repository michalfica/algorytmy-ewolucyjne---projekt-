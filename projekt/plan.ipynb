{
 "cells": [
  {
   "cell_type": "markdown",
   "metadata": {},
   "source": [
    "Do  zrobienia:\n",
    "\n",
    "(*) zakodować KOLOROWY obrazek \n",
    "\n",
    "(*) funkcja convert_to_pixels_array <-- powinna traktowaćplamki koloru jak KOŁA\n",
    "\n",
    "PROBLEM: nie aktualizuja sie zmiany w individual.py !!"
   ]
  },
  {
   "cell_type": "code",
   "execution_count": 75,
   "metadata": {},
   "outputs": [
    {
     "name": "stderr",
     "output_type": "stream",
     "text": [
      "Clipping input data to the valid range for imshow with RGB data ([0..1] for floats or [0..255] for integers).\n"
     ]
    },
    {
     "data": {
      "image/png": "[encoded data removed]",
      "text/plain": [
       "<Figure size 640x480 with 1 Axes>"
      ]
     },
     "metadata": {},
     "output_type": "display_data"
    }
   ],
   "source": [
    "from individual import Individual\n",
    "from individual import Splash\n",
    "\n",
    "# import individual from imp import reload reload(individual)\n",
    "\n",
    "# import importlib\n",
    "# importlib.reload(Individual)\n",
    "# importlib.reload(Splash)\n",
    "\n",
    "# # Individual.reload()\n",
    "# # reload(Splash)\n",
    "\n",
    "def test_convert_to_pixels_array():\n",
    "\n",
    "    N = 10\n",
    "    max_rank = 4\n",
    "\n",
    "    def generate_splash(N, max_rank):\n",
    "        splash_list = [Splash(np.array([0, 0, 0]), 0) for i in range(N)]\n",
    "        for splash in splash_list:\n",
    "            splash.random_splash(max_rank)\n",
    "            # splash.red_splash()\n",
    "\n",
    "        return splash_list\n",
    "    \n",
    "    def generate_specific_splash_layout(N, length, widith):\n",
    "        layout = np.zeros((N, 2))\n",
    "        for i in range(N):\n",
    "            x, y = np.random.randint(0,length), np.random.randint(0,widith)\n",
    "            layout[i] = np.array([x, y])\n",
    "        return layout\n",
    "    \n",
    "    splash_parameters = generate_splash(N, max_rank)\n",
    "    splash_layout = generate_specific_splash_layout(N, 10, 10)\n",
    "\n",
    "    # print(splash_parameters)\n",
    "    # print(splash_layout)\n",
    "\n",
    "    indiv = Individual(splash_parameters, splash_layout)\n",
    "    # pixels_array = indiv.convert_to_pixels_array()\n",
    "    # print(pixels_array)\n",
    "    indiv.show_image()\n",
    "\n",
    "test_convert_to_pixels_array()"
   ]
  }
 ],
 "metadata": {
  "kernelspec": {
   "display_name": "Python 3",
   "language": "python",
   "name": "python3"
  },
  "language_info": {
   "codemirror_mode": {
    "name": "ipython",
    "version": 3
   },
   "file_extension": ".py",
   "mimetype": "text/x-python",
   "name": "python",
   "nbconvert_exporter": "python",
   "pygments_lexer": "ipython3",
   "version": "3.10.12"
  }
 },
 "nbformat": 4,
 "nbformat_minor": 2
}
