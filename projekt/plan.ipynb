{
 "cells": [
  {
   "cell_type": "markdown",
   "metadata": {},
   "source": [
    "# Do  zrobienia:\n",
    "(mardown): https://www.ibm.com/docs/en/watson-studio-local/1.2.3?topic=notebooks-markdown-jupyter-cheatsheet"
   ]
  },
  {
   "cell_type": "markdown",
   "metadata": {},
   "source": [
    "1. <font color='green'>Funkcja celu</font> - oceniająca jak dobrze dany obrazek przybliża docelowy obraz.\n",
    "2. <font color='red'>Ewolucja</font> :\n",
    "    * jaki algorytm do tego zadania wybrać \n",
    "       \n",
    "        *  SGA ?? (pamiętam duża populację i mutuję delikatnie niektóre z nich)\n",
    "            \n",
    "            * <font color='green'>initial_population()</font> - generuje losowe osobniki\n",
    "\n",
    "            * <font color='green'>population_evaluate()</font> - oblicza wartość funkcji celu dla każdego osobnika \n",
    "\n",
    "            * <font color='green'>parent_selection()</font> - metoda ruletki - wybuieramy osobniki losowo, im większa wartość funkcji celu, tym większe prawdopodobieństwo, że zostanie wybrany \n",
    "            \n",
    "            * <font color='green'>crossover</font>:\n",
    "                * połowa plamek do jednego dziecka, druga połowa do drugiego -- jako tako cos jest \n",
    "            * <font color='green'>mutacja</font>:\n",
    "                * z małym prawdopodobieństwem losuje na nowo 2 plamki  \n",
    "                \n",
    "            * <font color='red'>replacement()</font>:\n",
    "                * dana populacja orginalana, populacja rodziców, na ich podstawie ustalić nową populację\n",
    "    \n",
    "<!-- <div class=\"alert alert-block alert-danger\">\n",
    "<b>Just don't:</b> In general, avoid the red boxes. These should only be\n",
    "used for actions that might cause data loss or another major issue.\n",
    "</div>\n",
    "\n",
    "<div class=\"alert alert-block alert-warning\">\n",
    "<b>Example:</b> Use yellow boxes for examples that are not \n",
    "inside code cells, or use for mathematical formulas if needed.\n",
    "</div> -->"
   ]
  }
 ],
 "metadata": {
  "kernelspec": {
   "display_name": "Python 3",
   "language": "python",
   "name": "python3"
  },
  "language_info": {
   "codemirror_mode": {
    "name": "ipython",
    "version": 3
   },
   "file_extension": ".py",
   "mimetype": "text/x-python",
   "name": "python",
   "nbconvert_exporter": "python",
   "pygments_lexer": "ipython3",
   "version": "3.10.12"
  }
 },
 "nbformat": 4,
 "nbformat_minor": 2
}
