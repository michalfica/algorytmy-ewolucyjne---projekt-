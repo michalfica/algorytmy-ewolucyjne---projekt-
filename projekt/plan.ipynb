{
 "cells": [
  {
   "cell_type": "markdown",
   "metadata": {},
   "source": [
    "# Do  zrobienia:\n",
    "(przydatny link): https://www.ibm.com/docs/en/watson-studio-local/1.2.3?topic=notebooks-markdown-jupyter-cheatsheet"
   ]
  },
  {
   "cell_type": "markdown",
   "metadata": {},
   "source": [
    "1. Funkcja celu - oceniająca jak dobrze dany obrazek przybliża docelowy obraz \n",
    "    * zakodować <font color='red'>docelowy obrazek</font> \n",
    "\n",
    "    * napisać <font color='red'>objective function</font> (najprostszy wariant): suma po różnicy w pikselach\n",
    "        * odległość dwóch pikseli od siebie: ???\n",
    "\n",
    "PYTANIA:\n",
    "* gdzi eumieścić powyższe rzeczy?\n",
    "\n",
    "<!-- <div class=\"alert alert-block alert-danger\">\n",
    "<b>Just don't:</b> In general, avoid the red boxes. These should only be\n",
    "used for actions that might cause data loss or another major issue.\n",
    "</div>\n",
    "\n",
    "<div class=\"alert alert-block alert-warning\">\n",
    "<b>Example:</b> Use yellow boxes for examples that are not \n",
    "inside code cells, or use for mathematical formulas if needed.\n",
    "</div> -->"
   ]
  }
 ],
 "metadata": {
  "kernelspec": {
   "display_name": "Python 3",
   "language": "python",
   "name": "python3"
  },
  "language_info": {
   "codemirror_mode": {
    "name": "ipython",
    "version": 3
   },
   "file_extension": ".py",
   "mimetype": "text/x-python",
   "name": "python",
   "nbconvert_exporter": "python",
   "pygments_lexer": "ipython3",
   "version": "3.10.12"
  }
 },
 "nbformat": 4,
 "nbformat_minor": 2
}
