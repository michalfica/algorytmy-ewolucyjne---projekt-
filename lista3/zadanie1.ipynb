{
 "cells": [
  {
   "cell_type": "markdown",
   "metadata": {},
   "source": [
    "# Strategie Ewolucyjne ES($\\mu+\\lambda $) oraz ES($\\mu, \\lambda$)\n",
    "\n",
    "Skrypt przedstawia implementację dwóch podstawowych strategi ewolucyjnych. Zawiera także wyniki skuteczności tych strategi, uruchomionych na pięciu wybranych benchmarkach. \n",
    "\n",
    "Benchamrki pocodzą ze strony: http://www-optima.amp.i.kyoto-u.ac.jp/member/student/hedar/Hedar_files/TestGO.htm\n",
    "Funkcje do zopytymalizowania:\n",
    "\n",
    "(1) http://www-optima.amp.i.kyoto-u.ac.jp/member/student/hedar/Hedar_files/TestGO_files/Page1240.htm\n",
    "\n",
    "(2) http://www-optima.amp.i.kyoto-u.ac.jp/member/student/hedar/Hedar_files/TestGO_files/Page2545.htm\n",
    "\n",
    "(3) http://www-optima.amp.i.kyoto-u.ac.jp/member/student/hedar/Hedar_files/TestGO_files/Page2376.htm\n",
    "\n",
    "(4) http://www-optima.amp.i.kyoto-u.ac.jp/member/student/hedar/Hedar_files/TestGO_files/Page295.htm\n",
    "\n",
    "(5) http://www-optima.amp.i.kyoto-u.ac.jp/member/student/hedar/Hedar_files/TestGO_files/Page1905.htm\n"
   ]
  },
  {
   "cell_type": "code",
   "execution_count": 225,
   "metadata": {},
   "outputs": [
    {
     "name": "stdout",
     "output_type": "stream",
     "text": [
      "Requirement already satisfied: numpy in /home/michal/.local/lib/python3.10/site-packages (1.26.1)\n"
     ]
    }
   ],
   "source": [
    "import sys\n",
    "!{sys.executable} -m pip install --user numpy\n",
    "\n",
    "import numpy as np\n",
    "import matplotlib.pyplot as plt\n",
    "import math\n",
    "import time\n",
    "\n",
    "%matplotlib inline"
   ]
  },
  {
   "cell_type": "markdown",
   "metadata": {},
   "source": [
    "# Input data"
   ]
  },
  {
   "cell_type": "code",
   "execution_count": 226,
   "metadata": {},
   "outputs": [],
   "source": [
    "# DIXON and PRIZE ----------------------------------------------------------------------------------------------------------- \n",
    "\n",
    "search_domain = (0,10)\n",
    "chromosome_length = 5\n",
    "\n",
    "def objective_function(x):\n",
    "    s1 = 0\n",
    "    for i in range(1,chromosome_length):\n",
    "        s1 = s1 + i*(2*x[i]**2 - x[i-1])**2\n",
    "    return math.ceil(s1+(x[0]-1)**2)\n",
    "\n",
    "# -----------------------------------------------------------------------------------------------------------------------------\n",
    "\n",
    "domain_low, domain_high = search_domain\n",
    "benchmark_objective_function = objective_function\n",
    "\n",
    "population_size   = 10"
   ]
  },
  {
   "cell_type": "markdown",
   "metadata": {},
   "source": [
    "### Random-Population"
   ]
  },
  {
   "cell_type": "code",
   "execution_count": 227,
   "metadata": {},
   "outputs": [
    {
     "name": "stdout",
     "output_type": "stream",
     "text": [
      "wartośc obj fun w zerze (powinna = 0):  1\n",
      "wartoś obj fun na krancu dziedziny (powinna być duza):  361081\n"
     ]
    }
   ],
   "source": [
    "class individual:\n",
    "    def __init__(self):\n",
    "        self.data = np.zeros(chromosome_length, dtype=np.double)\n",
    "        self.disturbance = np.ones(chromosome_length, dtype=np.double)\n",
    "        self.value = benchmark_objective_function(self.data)\n",
    "    \n",
    "    def random_data(self):\n",
    "        self.data = np.array([np.random.uniform(domain_low, domain_high) for i in range(chromosome_length)], dtype=np.double)\n",
    "        self.value = benchmark_objective_function(self.data)\n",
    "\n",
    "    def __eq__(self, other):\n",
    "        return self.data == other.data\n",
    "\n",
    "    def __lt__(self, other):\n",
    "        return self.value < other.value \n",
    "    \n",
    "    def __str__(self):\n",
    "        return f\"{math.ceil(self.value)}\"\n",
    "    \n",
    "    def __repr__(self):\n",
    "        return f\"{math.ceil(self.value)}\"\n",
    "    \n",
    "\n",
    "x = individual()\n",
    "\n",
    "print(\"wartośc obj fun w zerze (powinna = 0): \", benchmark_objective_function(x.data))\n",
    "for i in range(chromosome_length):\n",
    "    x.data[i] = domain_high\n",
    "\n",
    "print(\"wartoś obj fun na krancu dziedziny (powinna być duza): \", benchmark_objective_function(x.data))"
   ]
  },
  {
   "cell_type": "code",
   "execution_count": 228,
   "metadata": {},
   "outputs": [],
   "source": [
    "def RandomPopulation():\n",
    "    population = [individual() for i in range(population_size)]\n",
    "    for i in range(population_size):\n",
    "        population[i].random_data()\n",
    "\n",
    "    return population"
   ]
  },
  {
   "cell_type": "code",
   "execution_count": 229,
   "metadata": {},
   "outputs": [
    {
     "name": "stdout",
     "output_type": "stream",
     "text": [
      "[54301, 32738, 34421, 44123, 105571, 34716, 102873, 91409, 98065, 176875]\n"
     ]
    }
   ],
   "source": [
    "def test_RandomPopulation():\n",
    "    print(RandomPopulation())\n",
    "\n",
    "test_RandomPopulation()"
   ]
  },
  {
   "cell_type": "markdown",
   "metadata": {},
   "source": [
    "### Population Evaluation "
   ]
  },
  {
   "cell_type": "code",
   "execution_count": 230,
   "metadata": {},
   "outputs": [],
   "source": [
    "def PopulationEvaluation(P):\n",
    "    for indiv in P:\n",
    "        indiv.value = benchmark_objective_function(indiv.data)"
   ]
  },
  {
   "cell_type": "code",
   "execution_count": 231,
   "metadata": {},
   "outputs": [],
   "source": [
    "def PopulationSelection(population, k):\n",
    "    population = np.sort(population)\n",
    "    \n",
    "    best_individuals = [individual() for i in range(k)]\n",
    "    best_individuals = population[:k].copy()\n",
    "    return best_individuals"
   ]
  },
  {
   "cell_type": "code",
   "execution_count": 232,
   "metadata": {},
   "outputs": [
    {
     "name": "stdout",
     "output_type": "stream",
     "text": [
      "przed sortowaniem:  [5235, 82494, 2519, 138539, 46026, 66939, 113816, 6493, 27532, 39477]\n",
      "po posortowaniu:  [2519 5235 6493 27532]\n"
     ]
    }
   ],
   "source": [
    "def test_PopulationSelection():\n",
    "    parents = RandomPopulation()\n",
    "    PopulationEvaluation(parents)\n",
    "    print(\"przed sortowaniem: \", parents)\n",
    "\n",
    "    selected_parents = PopulationSelection(parents, 4)\n",
    "    print(\"po posortowaniu: \", selected_parents)\n",
    "    \n",
    "test_PopulationSelection()"
   ]
  },
  {
   "cell_type": "code",
   "execution_count": 233,
   "metadata": {},
   "outputs": [],
   "source": [
    "def Replacement(P1, P2, k):\n",
    "    all_individuals = np.append(P1.copy(), P2.copy())\n",
    "    \n",
    "    # bez unique\n",
    "    PopulationEvaluation(all_individuals)\n",
    "    wybrancy = PopulationSelection(all_individuals.copy(), k)\n",
    "    return wybrancy "
   ]
  },
  {
   "cell_type": "markdown",
   "metadata": {},
   "source": [
    "### Mutation"
   ]
  },
  {
   "cell_type": "code",
   "execution_count": 234,
   "metadata": {},
   "outputs": [],
   "source": [
    "def Mutation(population, theta, theta0):\n",
    "    mu, sigma = 0, theta*theta\n",
    "\n",
    "    for indiv in population:\n",
    "\n",
    "        epsilon0 = np.random.normal(mu, theta0) \n",
    "        eps = np.zeros(chromosome_length, dtype=np.double)\n",
    "\n",
    "        # 1 KROK zmodyfikuj chromosom zaburzenia \n",
    "        eps = [np.random.normal(mu, sigma) + epsilon0 for i in range(chromosome_length)]\n",
    "        eps = np.exp(eps)\n",
    "        indiv.disturbance = np.multiply(indiv.disturbance, eps)\n",
    "    \n",
    "        # 2 KROK zmodyfikuj chromosom z danymi osobnika \n",
    "        eps = [np.random.normal(mu,indiv.disturbance[i]**2)/(domain_high-domain_low) for i in range(chromosome_length)]\n",
    "        indiv.data = np.add(indiv.data, eps)\n",
    "\n",
    "        # pilonwac czy nie wychodze poza dziedzine \n",
    "        for i in range(chromosome_length):\n",
    "            if indiv.data[i] > domain_high : \n",
    "                indiv.data[i] = domain_high\n",
    "            if indiv.data[i] < domain_low:\n",
    "                indiv.data[i] = domain_low \n",
    "\n",
    "    return population"
   ]
  },
  {
   "cell_type": "code",
   "execution_count": 235,
   "metadata": {},
   "outputs": [
    {
     "name": "stdout",
     "output_type": "stream",
     "text": [
      "[154455, 150740, 107162, 44188, 12135, 82481, 194426, 44376, 11227, 104290]\n"
     ]
    }
   ],
   "source": [
    "def testMutation():\n",
    "    print(Mutation(RandomPopulation(), 1, 1))\n",
    "\n",
    "testMutation()"
   ]
  },
  {
   "cell_type": "markdown",
   "metadata": {},
   "source": [
    "## Algorytm ES($\\mu + \\lambda$) oraz Algorytm ES($\\mu,\\lambda$)"
   ]
  },
  {
   "cell_type": "code",
   "execution_count": 236,
   "metadata": {},
   "outputs": [],
   "source": [
    "number_of_iterations = 10\n",
    "mu_parametr, lambda_parametr = population_size, 5\n",
    "K = 10 \n",
    "theta_parametr, thetha0_parametr = K/(math.sqrt(2*chromosome_length)), K/math.sqrt(2*math.sqrt(chromosome_length)) \n",
    "\n",
    "best_result_values = np.zeros(number_of_iterations, dtype=np.double)\n",
    "\n",
    "# def detect_changes( p1, p2 ):\n",
    "#     set_of_values1 = set([x.value for x in p1])\n",
    "#     set_of_values2 = set([x.value for x in p2])\n",
    "\n",
    "#     return set_of_values1 == set_of_values2\n",
    "\n",
    "def ESplus():\n",
    "    P = RandomPopulation()\n",
    "    PopulationEvaluation(P)\n",
    "\n",
    "    for t in range(number_of_iterations):\n",
    "        # co robic? \n",
    "        continue\n",
    "\n",
    "    return PopulationSelection(P.copy(), 1)[0]                     # zwracanie najlepszego osobnika z populacji "
   ]
  },
  {
   "cell_type": "code",
   "execution_count": 244,
   "metadata": {},
   "outputs": [
    {
     "name": "stdout",
     "output_type": "stream",
     "text": [
      "[1, 2, 3] [1, 2, 3]\n",
      "[1, 7, 8, 9] [1, 2, 3, 3]\n"
     ]
    }
   ],
   "source": [
    "a = [1, 2, 3]\n",
    "b = a.copy()\n",
    "\n",
    "print(a, b)\n",
    "a.append(1)\n",
    "b.append(3)\n",
    "a = [1, 7, 8, 9]\n",
    "\n",
    "print(a, b)"
   ]
  },
  {
   "cell_type": "markdown",
   "metadata": {},
   "source": [
    "# Testowanie "
   ]
  },
  {
   "cell_type": "code",
   "execution_count": 238,
   "metadata": {},
   "outputs": [
    {
     "name": "stdout",
     "output_type": "stream",
     "text": [
      "uruchamiam test na dixon and price\n",
      "populacja P to:  [29385, 82676, 47898, 78865, 49717, 57841, 18516, 67099, 5132, 102743]\n",
      "najlepszy osobnik w populacji daje wartość:  5132\n",
      "parents to:  [5132 18516 29385 47898 49717]\n",
      "najlepszy osobnik w populacji WYBRANYCH RODZICÓW daje wartość:  5132\n",
      "childrens to: [5218 120401 39264 240481 199476]\n",
      "najlepszy osobnik w populacji POTOMKÓW daje wartość:  5218\n",
      "populacja na poczatku  (pattern) =  [39264, 82676, 240481, 78865, 199476, 57841, 120401, 67099, 5218, 102743]\n",
      "dastaje P1 =  [5218 120401 39264 240481 199476]\n",
      "i P2 =  [39264, 82676, 240481, 78865, 199476, 57841, 120401, 67099, 5218, 102743]\n",
      "wybieram =  [5218 5218 39264 39264 57841 67099 78865 82676 102743 120401]\n",
      "nowa poplacja to:  [5218 5218 39264 39264 57841 67099 78865 82676 102743 120401]\n",
      "najlepszy osobnik w populacji PO REPLACEMENCIE daje wartość:  5218\n",
      "\n",
      "\n",
      "populacja P to:  [5218 5218 39264 39264 57841 67099 78865 82676 102743 120401]\n",
      "najlepszy osobnik w populacji daje wartość:  5218\n",
      "parents to:  [5218 5218 39264 39264 57841]\n",
      "najlepszy osobnik w populacji WYBRANYCH RODZICÓW daje wartość:  5218\n",
      "childrens to: [5228 5228 39264 39264 104375]\n",
      "najlepszy osobnik w populacji POTOMKÓW daje wartość:  5228\n",
      "populacja na poczatku  (pattern) =  [5228 5228 39264 39264 104375 67099 78865 82676 102743 120401]\n",
      "dastaje P1 =  [5228 5228 39264 39264 104375]\n",
      "i P2 =  [5228 5228 39264 39264 104375 67099 78865 82676 102743 120401]\n",
      "wybieram =  [5228 5228 5228 5228 39264 39264 39264 39264 67099 78865]\n",
      "nowa poplacja to:  [5228 5228 5228 5228 39264 39264 39264 39264 67099 78865]\n",
      "najlepszy osobnik w populacji PO REPLACEMENCIE daje wartość:  5228\n",
      "\n",
      "\n",
      "populacja P to:  [5228 5228 5228 5228 39264 39264 39264 39264 67099 78865]\n",
      "najlepszy osobnik w populacji daje wartość:  5228\n",
      "parents to:  [5228 5228 5228 5228 39264]\n",
      "najlepszy osobnik w populacji WYBRANYCH RODZICÓW daje wartość:  5228\n",
      "childrens to: [304601 304601 304601 304601 187995]\n",
      "najlepszy osobnik w populacji POTOMKÓW daje wartość:  187995\n",
      "populacja na poczatku  (pattern) =  [304601 304601 304601 304601 187995 187995 187995 187995 67099 78865]\n",
      "dastaje P1 =  [304601 304601 304601 304601 187995]\n",
      "i P2 =  [304601 304601 304601 304601 187995 187995 187995 187995 67099 78865]\n",
      "wybieram =  [67099 78865 187995 187995 187995 187995 187995 304601 304601 304601]\n",
      "nowa poplacja to:  [67099 78865 187995 187995 187995 187995 187995 304601 304601 304601]\n",
      "najlepszy osobnik w populacji PO REPLACEMENCIE daje wartość:  67099\n",
      "\n",
      "\n",
      "populacja P to:  [67099 78865 187995 187995 187995 187995 187995 304601 304601 304601]\n",
      "najlepszy osobnik w populacji daje wartość:  67099\n",
      "parents to:  [67099 78865 187995 187995 187995]\n",
      "najlepszy osobnik w populacji WYBRANYCH RODZICÓW daje wartość:  67099\n",
      "childrens to: [66775 78865 173233 173233 173233]\n",
      "najlepszy osobnik w populacji POTOMKÓW daje wartość:  66775\n",
      "populacja na poczatku  (pattern) =  [66775 78865 173233 173233 173233 173233 173233 304601 304601 304601]\n",
      "dastaje P1 =  [66775 78865 173233 173233 173233]\n",
      "i P2 =  [66775 78865 173233 173233 173233 173233 173233 304601 304601 304601]\n",
      "wybieram =  [66775 66775 78865 78865 173233 173233 173233 173233 173233 173233]\n",
      "nowa poplacja to:  [66775 66775 78865 78865 173233 173233 173233 173233 173233 173233]\n",
      "najlepszy osobnik w populacji PO REPLACEMENCIE daje wartość:  66775\n",
      "\n",
      "\n",
      "populacja P to:  [66775 66775 78865 78865 173233 173233 173233 173233 173233 173233]\n",
      "najlepszy osobnik w populacji daje wartość:  66775\n",
      "parents to:  [66775 66775 78865 78865 173233]\n",
      "najlepszy osobnik w populacji WYBRANYCH RODZICÓW daje wartość:  66775\n",
      "childrens to: [142907 142907 196381 196381 270127]\n",
      "najlepszy osobnik w populacji POTOMKÓW daje wartość:  142907\n",
      "populacja na poczatku  (pattern) =  [142907 142907 196381 196381 270127 270127 270127 270127 270127 270127]\n",
      "dastaje P1 =  [142907 142907 196381 196381 270127]\n",
      "i P2 =  [142907 142907 196381 196381 270127 270127 270127 270127 270127 270127]\n",
      "wybieram =  [142907 142907 142907 142907 196381 196381 196381 196381 270127 270127]\n",
      "nowa poplacja to:  [142907 142907 142907 142907 196381 196381 196381 196381 270127 270127]\n",
      "najlepszy osobnik w populacji PO REPLACEMENCIE daje wartość:  142907\n",
      "\n",
      "\n",
      "populacja P to:  [142907 142907 142907 142907 196381 196381 196381 196381 270127 270127]\n",
      "najlepszy osobnik w populacji daje wartość:  142907\n",
      "parents to:  [142907 142907 142907 142907 196381]\n",
      "najlepszy osobnik w populacji WYBRANYCH RODZICÓW daje wartość:  142907\n",
      "childrens to: [265911 265911 265911 265911 80481]\n",
      "najlepszy osobnik w populacji POTOMKÓW daje wartość:  80481\n",
      "populacja na poczatku  (pattern) =  [265911 265911 265911 265911 80481 80481 80481 80481 270127 270127]\n",
      "dastaje P1 =  [265911 265911 265911 265911 80481]\n",
      "i P2 =  [265911 265911 265911 265911 80481 80481 80481 80481 270127 270127]\n",
      "wybieram =  [80481 80481 80481 80481 80481 265911 265911 265911 265911 265911]\n",
      "nowa poplacja to:  [80481 80481 80481 80481 80481 265911 265911 265911 265911 265911]\n",
      "najlepszy osobnik w populacji PO REPLACEMENCIE daje wartość:  80481\n",
      "\n",
      "\n",
      "populacja P to:  [80481 80481 80481 80481 80481 265911 265911 265911 265911 265911]\n",
      "najlepszy osobnik w populacji daje wartość:  80481\n",
      "parents to:  [80481 80481 80481 80481 80481]\n",
      "najlepszy osobnik w populacji WYBRANYCH RODZICÓW daje wartość:  80481\n",
      "childrens to: [332701 332701 332701 332701 332701]\n",
      "najlepszy osobnik w populacji POTOMKÓW daje wartość:  332701\n",
      "populacja na poczatku  (pattern) =  [332701 332701 332701 332701 332701 265911 265911 265911 265911 265911]\n",
      "dastaje P1 =  [332701 332701 332701 332701 332701]\n",
      "i P2 =  [332701 332701 332701 332701 332701 265911 265911 265911 265911 265911]\n",
      "wybieram =  [265911 265911 265911 265911 265911 332701 332701 332701 332701 332701]\n",
      "nowa poplacja to:  [265911 265911 265911 265911 265911 332701 332701 332701 332701 332701]\n",
      "najlepszy osobnik w populacji PO REPLACEMENCIE daje wartość:  265911\n",
      "\n",
      "\n",
      "populacja P to:  [265911 265911 265911 265911 265911 332701 332701 332701 332701 332701]\n",
      "najlepszy osobnik w populacji daje wartość:  265911\n",
      "parents to:  [265911 265911 265911 265911 265911]\n",
      "najlepszy osobnik w populacji WYBRANYCH RODZICÓW daje wartość:  265911\n",
      "childrens to: [112501 112501 112501 112501 112501]\n",
      "najlepszy osobnik w populacji POTOMKÓW daje wartość:  112501\n",
      "populacja na poczatku  (pattern) =  [112501 112501 112501 112501 112501 332701 332701 332701 332701 332701]\n",
      "dastaje P1 =  [112501 112501 112501 112501 112501]\n",
      "i P2 =  [112501 112501 112501 112501 112501 332701 332701 332701 332701 332701]\n",
      "wybieram =  [112501 112501 112501 112501 112501 112501 112501 112501 112501 112501]\n",
      "nowa poplacja to:  [112501 112501 112501 112501 112501 112501 112501 112501 112501 112501]\n",
      "najlepszy osobnik w populacji PO REPLACEMENCIE daje wartość:  112501\n",
      "\n",
      "\n",
      "populacja P to:  [112501 112501 112501 112501 112501 112501 112501 112501 112501 112501]\n",
      "najlepszy osobnik w populacji daje wartość:  112501\n",
      "parents to:  [112501 112501 112501 112501 112501]\n",
      "najlepszy osobnik w populacji WYBRANYCH RODZICÓW daje wartość:  112501\n",
      "childrens to: [160181 160181 160181 160181 160181]\n",
      "najlepszy osobnik w populacji POTOMKÓW daje wartość:  160181\n",
      "populacja na poczatku  (pattern) =  [160181 160181 160181 160181 160181 160181 160181 160181 160181 160181]\n",
      "dastaje P1 =  [160181 160181 160181 160181 160181]\n",
      "i P2 =  [160181 160181 160181 160181 160181 160181 160181 160181 160181 160181]\n",
      "wybieram =  [160181 160181 160181 160181 160181 160181 160181 160181 160181 160181]\n",
      "nowa poplacja to:  [160181 160181 160181 160181 160181 160181 160181 160181 160181 160181]\n",
      "najlepszy osobnik w populacji PO REPLACEMENCIE daje wartość:  160181\n",
      "\n",
      "\n",
      "populacja P to:  [160181 160181 160181 160181 160181 160181 160181 160181 160181 160181]\n",
      "najlepszy osobnik w populacji daje wartość:  160181\n",
      "parents to:  [160181 160181 160181 160181 160181]\n",
      "najlepszy osobnik w populacji WYBRANYCH RODZICÓW daje wartość:  160181\n",
      "childrens to: [145 145 145 145 145]\n",
      "najlepszy osobnik w populacji POTOMKÓW daje wartość:  145\n",
      "populacja na poczatku  (pattern) =  [145 145 145 145 145 145 145 145 145 145]\n",
      "dastaje P1 =  [145 145 145 145 145]\n",
      "i P2 =  [145 145 145 145 145 145 145 145 145 145]\n",
      "wybieram =  [145 145 145 145 145 145 145 145 145 145]\n",
      "nowa poplacja to:  [145 145 145 145 145 145 145 145 145 145]\n",
      "najlepszy osobnik w populacji PO REPLACEMENCIE daje wartość:  145\n",
      "\n",
      "\n",
      "wynik to:  145\n",
      "wartość funkcji celu to:  145\n"
     ]
    },
    {
     "data": {
      "text/plain": [
       "[<matplotlib.lines.Line2D at 0x7f1224d81930>]"
      ]
     },
     "execution_count": 238,
     "metadata": {},
     "output_type": "execute_result"
    },
    {
     "data": {
      "image/png": "[encoded data removed]",
      "text/plain": [
       "<Figure size 1200x400 with 1 Axes>"
      ]
     },
     "metadata": {},
     "output_type": "display_data"
    }
   ],
   "source": [
    "print(\"uruchamiam test na dixon and price\")\n",
    "result = ESplus()\n",
    "print(\"wynik to: \", result)\n",
    "print(\"wartość funkcji celu to: \", result.value)\n",
    "\n",
    "plt.figure(figsize=(12,4))\n",
    "plt.plot(best_result_values)\n",
    "\n",
    "\n",
    "\n",
    "\n",
    "# populacja P to:  [29385, 82676, 47898, 78865, 49717, 57841, 18516, 67099, 5132, 102743]\n",
    "              #    [39264, 82676, 240481, 78865, 199476, 57841, 120401, 67099, 5218, 102743]\n",
    "# najlepszy osobnik w populacji daje wartość:  5132\n",
    "\n",
    "# parents to:  [5132 18516 29385 47898 49717]\n",
    "# najlepszy osobnik w populacji WYBRANYCH RODZICÓW daje wartość:  5132\n",
    "\n",
    "# childrens to: [5218 120401 39264 240481 199476]\n",
    "# najlepszy osobnik w populacji POTOMKÓW daje wartość:  5218\n",
    "\n",
    "# populacja na poczatku  (pattern) =  [39264, 82676, 240481, 78865, 199476, 57841, 120401, 67099, 5218, 102743]\n",
    "\n",
    "# dastaje P1 =  [5218 120401 39264 240481 199476]\n",
    "# i P2 =  [39264, 82676, 240481, 78865, 199476, 57841, 120401, 67099, 5218, 102743]\n",
    "# wybieram =  [5218 5218 39264 39264 57841 67099 78865 82676 102743 120401]\n",
    "# nowa poplacja to:  [5218 5218 39264 39264 57841 67099 78865 82676 102743 120401]\n",
    "# najlepszy osobnik w populacji PO REPLACEMENCIE daje wartość:  5218"
   ]
  }
 ],
 "metadata": {
  "kernelspec": {
   "display_name": "Python 3",
   "language": "python",
   "name": "python3"
  },
  "language_info": {
   "codemirror_mode": {
    "name": "ipython",
    "version": 3
   },
   "file_extension": ".py",
   "mimetype": "text/x-python",
   "name": "python",
   "nbconvert_exporter": "python",
   "pygments_lexer": "ipython3",
   "version": "3.10.12"
  }
 },
 "nbformat": 4,
 "nbformat_minor": 2
}
